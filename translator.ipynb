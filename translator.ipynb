{
 "cells": [
  {
   "cell_type": "markdown",
   "metadata": {},
   "source": [
    "# Реализация переводчика на архитектуре Transformer\n",
    "(перевод текстов с английского на русский язык)"
   ]
  },
  {
   "cell_type": "code",
   "execution_count": 16,
   "metadata": {},
   "outputs": [
    {
     "name": "stdout",
     "output_type": "stream",
     "text": [
      "WARNING:tensorflow:From c:\\Users\\denis\\anaconda3\\envs\\ds_env\\Lib\\site-packages\\keras\\src\\losses.py:2976: The name tf.losses.sparse_softmax_cross_entropy is deprecated. Please use tf.compat.v1.losses.sparse_softmax_cross_entropy instead.\n",
      "\n"
     ]
    }
   ],
   "source": [
    "import gzip\n",
    "import heapq\n",
    "import math\n",
    "import os\n",
    "import pickle\n",
    "import platform\n",
    "import random\n",
    "import shutil\n",
    "import sys\n",
    "import time\n",
    "import zipfile\n",
    "from collections import Counter, defaultdict\n",
    "\n",
    "import matplotlib.pyplot as plt\n",
    "import matplotlib.ticker as ticker\n",
    "import numpy as np\n",
    "import spacy\n",
    "import wget\n",
    "\n",
    "import torch\n",
    "import torch.nn as nn\n",
    "import torch.nn.functional as F\n",
    "from torch.utils.data import Dataset\n",
    "from torch.utils.data import DataLoader\n",
    "from torch.nn.utils.rnn import pad_sequence\n",
    "\n",
    "import xml.etree.ElementTree as ET\n",
    "import youtokentome as yttm"
   ]
  },
  {
   "cell_type": "code",
   "execution_count": 17,
   "metadata": {},
   "outputs": [],
   "source": [
    "SEED = 1234\n",
    "\n",
    "random.seed(SEED)\n",
    "#np.random.seed(SEED)\n",
    "torch.manual_seed(SEED)\n",
    "torch.cuda.manual_seed(SEED)\n",
    "torch.backends.cudnn.deterministic = True"
   ]
  },
  {
   "cell_type": "code",
   "execution_count": 18,
   "metadata": {},
   "outputs": [
    {
     "name": "stdout",
     "output_type": "stream",
     "text": [
      "Версия Python: 3.11.5\n",
      "Платформа: Windows-10-10.0.22631-SP0\n",
      "Версия torch: 2.1.1\n"
     ]
    }
   ],
   "source": [
    "print(f'Версия Python: {platform.python_version()}')\n",
    "print(f'Платформа: {platform.platform()}')\n",
    "print(f'Версия torch: {torch.__version__}')"
   ]
  },
  {
   "cell_type": "code",
   "execution_count": 19,
   "metadata": {},
   "outputs": [
    {
     "name": "stdout",
     "output_type": "stream",
     "text": [
      "NVIDIA GeForce RTX 3090\n"
     ]
    }
   ],
   "source": [
    "device = torch.device('cuda' if torch.cuda.is_available() else 'mps')\n",
    "print(torch.cuda.get_device_name(0) if device.type == 'cuda' else device.type)"
   ]
  },
  {
   "cell_type": "markdown",
   "metadata": {},
   "source": [
    "Параметры формирования датасета (загрузка, токенизация), и словарей"
   ]
  },
  {
   "cell_type": "code",
   "execution_count": 20,
   "metadata": {},
   "outputs": [],
   "source": [
    "dataset_name = 'WikiMatrix'   # имя датасета для загрузки\n",
    "\n",
    "ru2en_mode = False            # флаг формирования датасета ru2en вместо en2ru\n",
    "data_lower = True             # флаг приведения предложений к нижнему регистру\n",
    "tokenize_bpe = False          # флаг токенизации с помощью метода BPE\n",
    "\n",
    "MAX_LEN_SRC = 200             # ограничение длины src (токенов при токенизации SpaCy, слов при токенизации BPE)\n",
    "MAX_LEN_TRG = 200             # ограничение длины trg (токенов при токенизации SpaCy, слов при токенизации BPE)\n",
    "\n",
    "# частота слова для попадания в словарь (при токенизации регулярками / spaCy)\n",
    "min_freq_src = 10\n",
    "min_freq_trg = 10\n",
    "\n",
    "# максимальный размер словаря\n",
    "MAX_VOCAB_SIZE_SRC = 25000\n",
    "MAX_VOCAB_SIZE_TRG = 25000\n",
    "\n",
    "BATCH_SIZE = 32"
   ]
  },
  {
   "cell_type": "markdown",
   "metadata": {},
   "source": [
    "## Загрузчик данных"
   ]
  },
  {
   "cell_type": "markdown",
   "metadata": {},
   "source": [
    "### Загрузка и формирование датасетов en-ru с OPUS"
   ]
  },
  {
   "cell_type": "code",
   "execution_count": 21,
   "metadata": {},
   "outputs": [
    {
     "name": "stdout",
     "output_type": "stream",
     "text": [
      "Архив en-ru.tmx.gz датасета WikiMatrix распакован в temp\\en-ru.tmx\n",
      "Парсинг xml-файла en-ru.tmx\n",
      "Parsing: 100% [1,661,908 / 1,661,908] items\n",
      "\n",
      "Сформирован датасет из 1661907 пар предложений\n",
      "\n",
      "Размер обучающей выборки: 1495717\n",
      "Размер валидационной выборки: 83095\n",
      "Размер тестовой выборки: 83095\n"
     ]
    }
   ],
   "source": [
    "def load_dataset(dataset_name, mode='tmx', val_part = 0, test_part = 0, ru2en_mode = False):\n",
    "    '''\n",
    "    функция принимает на вход имя датасета из доступных, загружает указанный датасет\n",
    "    и возвращает обучающую, валидационную и тестовые выборки в виде списков с кортежами (src, trg)\n",
    "    \n",
    "    параметры:\n",
    "    dataset_name - имя датасета для загрузки\n",
    "    mode - режим загрузки: raw (из отдельных xml-файлов en и ru) и tmx (из xml-файла с парами предожений)\n",
    "    ru2en_mode - если True, то перевод с русского на английский\n",
    "    val_part - размер валидационной выборки (0-1)\n",
    "    test_part - размер тестовой выборки (0-1)\n",
    "\n",
    "    доступные датасеты:\n",
    "    wikipedia_health\n",
    "    ada83\n",
    "    wikimedia\n",
    "    WikiMatrix\n",
    "    NLLB\n",
    "    '''\n",
    "    \n",
    "    assert val_part >= 0, 'Доля валидационной выборки не может быть меньше 0'\n",
    "    assert val_part <= 1, 'Доля валидационной выборки не может быть больше 1'\n",
    "    assert test_part >= 0, 'Доля тестовой выборки не может быть меньше 0'\n",
    "    assert test_part <= 1, 'Доля тестовой выборки не может быть больше 1'\n",
    "    assert val_part + test_part <= 1, 'Доля тестовой и валидационной выборок не может быть больше 1'\n",
    "    \n",
    "    def bar_progress(current, total, width=80):\n",
    "        progress_message = \"Downloading: %d%% [%.2f / %.2f] MiB\" % (current / total * 100, current/1024/1024, total/1024/1024)\n",
    "        sys.stdout.write(\"\\r\" + progress_message)\n",
    "        sys.stdout.flush()\n",
    "    \n",
    "    def download_archive(url, dataset_path, file_name, bar=bar_progress):\n",
    "        if file_name not in os.listdir(dataset_path):\n",
    "            print(f'Загрузка архива {file_name} датасета {dataset_name}')\n",
    "            wget.download(url, os.path.join(dataset_path, file_name), bar=bar_progress)\n",
    "            print()\n",
    "    \n",
    "    datasets_url = {'wikipedia_health':{'url_en':'https://object.pouta.csc.fi/OPUS-ELRC-3075-wikipedia_health/v1/raw/en.zip',\n",
    "                                        'url_ru':'https://object.pouta.csc.fi/OPUS-ELRC-3075-wikipedia_health/v1/raw/ru.zip',\n",
    "                                        'url_tmx':'https://object.pouta.csc.fi/OPUS-ELRC-3075-wikipedia_health/v1/tmx/en-ru.tmx.gz'},\n",
    "                    'ada83':{'url_en':'https://object.pouta.csc.fi/OPUS-ada83/v1/raw/en.zip',\n",
    "                             'url_ru':'https://object.pouta.csc.fi/OPUS-ada83/v1/raw/ru.zip',\n",
    "                             'url_tmx':'https://object.pouta.csc.fi/OPUS-ada83/v1/tmx/en-ru.tmx.gz'},\n",
    "                    'wikimedia':{'url_en':'https://object.pouta.csc.fi/OPUS-wikimedia/v20230407/raw/en.zip',\n",
    "                                 'url_ru':'https://object.pouta.csc.fi/OPUS-wikimedia/v20230407/raw/ru.zip',\n",
    "                                 'url_tmx':'https://object.pouta.csc.fi/OPUS-wikimedia/v20230407/tmx/en-ru.tmx.gz'},\n",
    "                    'WikiMatrix':{'url_en':'https://object.pouta.csc.fi/OPUS-WikiMatrix/v1/raw/en.zip',\n",
    "                                 'url_ru':'https://object.pouta.csc.fi/OPUS-WikiMatrix/v1/raw/ru.zip',\n",
    "                                 'url_tmx':'https://object.pouta.csc.fi/OPUS-WikiMatrix/v1/tmx/en-ru.tmx.gz'},\n",
    "                    'NLLB':{'url_en':'https://object.pouta.csc.fi/OPUS-NLLB/v1/raw/en.zip',\n",
    "                            'url_ru':'https://object.pouta.csc.fi/OPUS-NLLB/v1/raw/ru.zip',\n",
    "                            'url_tmx':'https://object.pouta.csc.fi/OPUS-NLLB/v1/tmx/en-ru.tmx.gz'}\n",
    "                    }\n",
    "\n",
    "    if 'datasets' not in os.listdir():\n",
    "        os.mkdir('datasets')\n",
    "    dataset_path = os.path.join('datasets', dataset_name)\n",
    "    if dataset_name not in os.listdir('datasets'):\n",
    "        os.mkdir(dataset_path)\n",
    "\n",
    "    if mode == 'raw':\n",
    "        \n",
    "        src_url = datasets_url[dataset_name]['url_en']\n",
    "        trg_url = datasets_url[dataset_name]['url_ru']\n",
    "        \n",
    "        src = []\n",
    "        trg = []    \n",
    "\n",
    "        for trg_flag, url in enumerate([src_url, trg_url]):\n",
    "            \n",
    "            file_name = url.split('/')[-1]\n",
    "            download_archive(url, dataset_path, file_name)      \n",
    "            \n",
    "            # распаковка архивов zip\n",
    "            with zipfile.ZipFile(os.path.join(dataset_path, file_name), 'r') as zip_file:\n",
    "                extracted_file = zip_file.namelist()\n",
    "                extracted_file = [path for path in extracted_file if path[-4:] == '.xml'][-1]\n",
    "                zip_file.extract(extracted_file, path='temp')\n",
    "                extracted_file = os.path.join('temp', extracted_file)\n",
    "                print(f'Архив {file_name} датасета {dataset_name} распакован в {extracted_file}')\n",
    "   \n",
    "                # парсинг xml-файлов\n",
    "                print(f'Парсинг xml-файла {extracted_file[5:]}')\n",
    "                tree = ET.parse(extracted_file)\n",
    "                root = tree.getroot()\n",
    "                for i, item in enumerate(root):\n",
    "                    if trg_flag == 0:\n",
    "                        src.append(item.text)\n",
    "                    else:\n",
    "                        trg.append(item.text)\n",
    "                    \n",
    "                    if i+1%1000 == 0:\n",
    "                        print(f'Parsing: {(i+1)*100//len(root)}% [{i+1:,} / {len(root):,}] items', end=\"\\r\")\n",
    "                print(f'Parsing: {(i+1)*100//len(root)}% [{i+1:,} / {len(root):,}] items', end=\"\\r\")\n",
    "                print('\\n', end=\"\")\n",
    "                print()\n",
    "\n",
    "            # удаление временных файлов и каталогов\n",
    "            os.remove(extracted_file)\n",
    "            os.removedirs(os.path.split(extracted_file)[0])    \n",
    "\n",
    "        assert len(src) == len(trg), 'Списки предложеий на разных языках должны быть одинаковой длины'\n",
    "        \n",
    "        dataset_row = []\n",
    "        for i in range(len(src)):\n",
    "            dataset_row.append((src[i], trg[i]))\n",
    "\n",
    "    elif mode == 'tmx':\n",
    "        \n",
    "        url = datasets_url[dataset_name]['url_tmx']\n",
    "        file_name = url.split('/')[-1]\n",
    "        download_archive(url, dataset_path, file_name)\n",
    "        \n",
    "        # распаковка архива gz\n",
    "        if 'temp' not in os.listdir('.'):\n",
    "            os.mkdir('temp')\n",
    "        with gzip.open(os.path.join(dataset_path, file_name), 'rb') as f_in:\n",
    "            extracted_file = os.path.join('temp', '.'.join(file_name.split('.')[:-1]))\n",
    "            with open(extracted_file, 'wb') as f_out:\n",
    "                shutil.copyfileobj(f_in, f_out)\n",
    "                print(f'Архив {file_name} датасета {dataset_name} распакован в {extracted_file}')\n",
    "\n",
    "        # парсинг xml-файла\n",
    "        print(f'Парсинг xml-файла {extracted_file[5:]}')\n",
    "        dataset_row = []\n",
    "        tree = ET.parse(extracted_file)\n",
    "        root = tree.getroot()\n",
    "        for i, pair in enumerate(root[1]):\n",
    "            try:\n",
    "                src = pair[0][0].text\n",
    "                trg = pair[1][0].text\n",
    "                if (src is not None) and ((trg is not None)):\n",
    "                    if src[-1] == ' ':\n",
    "                        src = src[:-1]\n",
    "                    if trg[-1] == ' ':\n",
    "                        trg = trg[:-1]\n",
    "                    dataset_row.append((src, trg))\n",
    "            except:\n",
    "                pass\n",
    "\n",
    "            if i+1%1000 == 0:\n",
    "                print(f'Parsing: {(i+1)*100//len(root[1])}% [{i+1:,} / {len(root[1]):,}] items', end=\"\\r\")\n",
    "        print(f'Parsing: {(i+1)*100//len(root[1])}% [{i+1:,} / {len(root[1]):,}] items', end=\"\\r\")\n",
    "        print('\\n', end=\"\")\n",
    "        print()\n",
    "        \n",
    "        # удаление временных файлов и каталогов\n",
    "        os.remove(extracted_file)\n",
    "        os.removedirs(os.path.split(extracted_file)[0]) \n",
    "\n",
    "    else:\n",
    "        print('Неверно указан режим загрузки')\n",
    "        return None\n",
    "    \n",
    "    if ru2en_mode == True:\n",
    "        dataset_row = [(ru, en) for en, ru in dataset_row]\n",
    "    print(f'Сформирован датасет из {len(dataset_row)} пар предложений')\n",
    "    print()\n",
    "\n",
    "    dataset_size = len(dataset_row)\n",
    "    val_len = int(val_part*dataset_size)\n",
    "    test_len = int(test_part*dataset_size)\n",
    "    train_len = dataset_size - val_len - test_len\n",
    "    \n",
    "    if train_len < dataset_size:\n",
    "        random.shuffle(dataset_row)\n",
    "\n",
    "    dataset_row_splited = []\n",
    "    if train_len > 0:\n",
    "        dataset_row_splited.append(dataset_row[:train_len])\n",
    "        print(f'Размер обучающей выборки: {train_len}')\n",
    "    if val_len > 0:\n",
    "        dataset_row_splited.append(dataset_row[train_len:train_len+val_len])\n",
    "        print(f'Размер валидационной выборки: {val_len}')\n",
    "    if test_len > 0:\n",
    "        dataset_row_splited.append(dataset_row[train_len+val_len:train_len+val_len+test_len])\n",
    "        print(f'Размер тестовой выборки: {test_len}')\n",
    "    \n",
    "    return tuple(dataset_row_splited)\n",
    "\n",
    "train_data_raw, valid_data_raw, test_data_raw = load_dataset(dataset_name, mode='tmx',\n",
    "                                                             val_part=0.05, test_part=0.05,\n",
    "                                                             ru2en_mode=False)  "
   ]
  },
  {
   "cell_type": "code",
   "execution_count": 22,
   "metadata": {},
   "outputs": [
    {
     "name": "stdout",
     "output_type": "stream",
     "text": [
      "Максимальная длина переводимого предожения (слов): 7114\n",
      "Максимальная длина референсного перевода (слов): 17507\n"
     ]
    }
   ],
   "source": [
    "print('Максимальная длина переводимого предожения (слов):',\n",
    "       max([(len(src.split())) for src, trg in train_data_raw] +\n",
    "           [(len(src.split())) for src, trg in valid_data_raw] +\n",
    "           [(len(src.split())) for src, trg in test_data_raw]\n",
    "           )\n",
    "      )\n",
    "\n",
    "print('Максимальная длина референсного перевода (слов):',\n",
    "       max([(len(trg.split())) for src, trg in train_data_raw] +\n",
    "           [(len(trg.split())) for src, trg in valid_data_raw] +\n",
    "           [(len(trg.split())) for src, trg in test_data_raw]\n",
    "           )\n",
    "      )"
   ]
  },
  {
   "cell_type": "markdown",
   "metadata": {},
   "source": [
    "### Препроцессинг датасета и формирование словарей с помощью BPE"
   ]
  },
  {
   "cell_type": "markdown",
   "metadata": {},
   "source": [
    "Приведение датасета к нижнему регистру (опционально)"
   ]
  },
  {
   "cell_type": "code",
   "execution_count": 23,
   "metadata": {},
   "outputs": [],
   "source": [
    "if (tokenize_bpe == True) and (data_lower == True):\n",
    "    train_data_raw = [(src.lower(), trg.lower()) for src, trg in train_data_raw]\n",
    "    valid_data_raw = [(src.lower(), trg.lower()) for src, trg in valid_data_raw]\n",
    "    test_data_raw  = [(src.lower(), trg.lower()) for src, trg in test_data_raw]"
   ]
  },
  {
   "cell_type": "markdown",
   "metadata": {},
   "source": [
    "Ограничение длины src и trg (опционально)"
   ]
  },
  {
   "cell_type": "code",
   "execution_count": 24,
   "metadata": {},
   "outputs": [],
   "source": [
    "if tokenize_bpe == True:\n",
    "    # ограничение длины предложения, разбивка слов пробелами\n",
    "    train_data_raw = [[' '.join(src.split()[:MAX_LEN_SRC]), ' '.join(trg.split()[:MAX_LEN_TRG])] for src, trg in train_data_raw]\n",
    "    valid_data_raw = [[' '.join(src.split()[:MAX_LEN_SRC]), ' '.join(trg.split()[:MAX_LEN_TRG])] for src, trg in valid_data_raw]\n",
    "    test_data_raw  = [[' '.join(src.split()[:MAX_LEN_SRC]), ' '.join(trg.split()[:MAX_LEN_TRG])] for src, trg in test_data_raw]   "
   ]
  },
  {
   "cell_type": "markdown",
   "metadata": {},
   "source": [
    "Формирование словаря для BPE"
   ]
  },
  {
   "cell_type": "code",
   "execution_count": 25,
   "metadata": {},
   "outputs": [],
   "source": [
    "if tokenize_bpe == True:\n",
    "    '''\n",
    "    основной модуль yttm не на python, данные в библиотеку подаются через текстовый файл\n",
    "    все текстовые данные сохраняем в файл TRAIN_TEXTS_FILENAME\n",
    "    модель читает данные из этого файла и складывает словарь замен в файл BPE_MODEL_FILENAME\n",
    "    '''\n",
    "    def save_texts_to_file(texts, out_file):\n",
    "        with open(out_file, 'w') as outf:\n",
    "            outf.write('\\n'.join(texts))\n",
    "\n",
    "    TRAIN_SRC_FILENAME = './datasets/src_bpe_train.txt'\n",
    "    TRAIN_TRG_FILENAME = './datasets/trg_bpe_train.txt'\n",
    "    save_texts_to_file([row[0] for row in train_data_raw], TRAIN_SRC_FILENAME)\n",
    "    save_texts_to_file([row[1] for row in train_data_raw], TRAIN_TRG_FILENAME)\n",
    "\n",
    "    if 'models' not in os.listdir():\n",
    "        os.mkdir('models')\n",
    "\n",
    "    BPE_SRC_MODEL_FILENAME = './models/src.yttm'\n",
    "    BPE_TRG_MODEL_FILENAME = './models/trg.yttm'\n",
    "    yttm.BPE.train(data=TRAIN_SRC_FILENAME, model=BPE_SRC_MODEL_FILENAME, vocab_size=MAX_VOCAB_SIZE_SRC, pad_id = 1, unk_id = 0) # 6346      исх\n",
    "    yttm.BPE.train(data=TRAIN_TRG_FILENAME, model=BPE_TRG_MODEL_FILENAME, vocab_size=MAX_VOCAB_SIZE_TRG, pad_id = 1, unk_id = 0) # 14349     исх\n",
    "\n",
    "    # создание экземпляра класса BPE и передача ему пути к файлу с обученной моделью (словарю)\n",
    "    SRC = yttm.BPE(BPE_SRC_MODEL_FILENAME)\n",
    "    TRG = yttm.BPE(BPE_TRG_MODEL_FILENAME)\n",
    "\n",
    "    print(f'Размер словаря src: {SRC.vocab_size()}')\n",
    "    print('Словарь src: ' + ' '.join(SRC.vocab()))\n",
    "    print(f'Размер словаря trg: {TRG.vocab_size()}')\n",
    "    print('Словарь trg: ' + ' '.join(TRG.vocab()))\n",
    "    print()\n",
    "\n",
    "    sentense = train_data_raw[0][0]\n",
    "    print(f'BPE кодирование строки: \"{sentense}\":')\n",
    "    print(SRC.encode(sentense, bos = True, eos=True))\n",
    "    print(f'BPE декодирование строки:')\n",
    "    print(''.join(SRC.decode(SRC.encode(sentense, bos = True, eos=True), ignore_ids=[0,1,2,3])))"
   ]
  },
  {
   "cell_type": "markdown",
   "metadata": {},
   "source": [
    "### Токенизация текстов с помощью spaCy и формирование словарей"
   ]
  },
  {
   "cell_type": "markdown",
   "metadata": {},
   "source": [
    "Токенизация текстов"
   ]
  },
  {
   "cell_type": "code",
   "execution_count": 26,
   "metadata": {},
   "outputs": [],
   "source": [
    "def tokenize_en(text):\n",
    "    \"\"\"\n",
    "    Tokenizes English text from a string into a list of strings\n",
    "    \"\"\"\n",
    "    return [tok.text for tok in spacy_en.tokenizer(text)]\n",
    "\n",
    "def tokenize_ru(text):\n",
    "    \"\"\"\n",
    "    Tokenizes Russian text from a string into a list of strings\n",
    "    \"\"\"\n",
    "    return [tok.text for tok in spacy_ru.tokenizer(text)]\n",
    "\n",
    "def tokenize_raw_data(row_data, tokenize_src, tokenize_trg, lower=False, max_token_src=None, max_token_trg=None):\n",
    "    \"\"\"\n",
    "    Tokenizes a list of tuple of src and trg\n",
    "    \"\"\"\n",
    "    data_tokenized = []\n",
    "\n",
    "    for pair in row_data:\n",
    "        src = tokenize_src(pair[0])\n",
    "        trg = tokenize_trg(pair[1])\n",
    "\n",
    "        if (src!=[]) & (trg!=[]):\n",
    "            src = src[:max_token_src]\n",
    "            trg = trg[:max_token_trg]\n",
    "            \n",
    "            if lower == True:\n",
    "                src = [token.lower() for token in src]\n",
    "                trg = [token.lower() for token in trg]\n",
    "            \n",
    "            data_tokenized.append((src, trg))\n",
    "   \n",
    "    return data_tokenized"
   ]
  },
  {
   "cell_type": "code",
   "execution_count": 27,
   "metadata": {},
   "outputs": [
    {
     "name": "stdout",
     "output_type": "stream",
     "text": [
      "Размер обучающей выборки: 1495717\n",
      "Размер валидационной выборки: 83095\n",
      "Размер тестовой выборки: 83095\n"
     ]
    }
   ],
   "source": [
    "if tokenize_bpe == False:\n",
    "    try:\n",
    "        spacy_en = spacy.load('en_core_web_sm')  # используется для токенизации предложений\n",
    "        spacy_ru = spacy.load('ru_core_news_sm')\n",
    "    except:\n",
    "        !spacy download en_core_web_sm\n",
    "        !spacy download ru_core_news_sm\n",
    "        spacy_en = spacy.load('en_core_web_sm')\n",
    "        spacy_ru = spacy.load('ru_core_news_sm')\n",
    "\n",
    "    tokenize_src = tokenize_en if ru2en_mode == False else tokenize_ru\n",
    "    tokenize_trg = tokenize_ru if ru2en_mode == False else tokenize_en\n",
    "\n",
    "    train_tokenized = tokenize_raw_data(train_data_raw, tokenize_src, tokenize_trg, lower=data_lower, max_token_src=MAX_LEN_SRC, max_token_trg=MAX_LEN_TRG)\n",
    "    valid_tokenized = tokenize_raw_data(valid_data_raw, tokenize_src, tokenize_trg, lower=data_lower, max_token_src=MAX_LEN_SRC, max_token_trg=MAX_LEN_TRG)\n",
    "    test_tokenized  = tokenize_raw_data(test_data_raw,  tokenize_src, tokenize_trg, lower=data_lower, max_token_src=MAX_LEN_SRC, max_token_trg=MAX_LEN_TRG)    \n",
    "    \n",
    "    print(f\"Размер обучающей выборки: {len(train_tokenized)}\")\n",
    "    print(f\"Размер валидационной выборки: {len(valid_tokenized)}\")\n",
    "    print(f\"Размер тестовой выборки: {len(test_tokenized)}\")\n"
   ]
  },
  {
   "cell_type": "markdown",
   "metadata": {},
   "source": [
    "Класс словарей"
   ]
  },
  {
   "cell_type": "code",
   "execution_count": 45,
   "metadata": {},
   "outputs": [],
   "source": [
    "class vocab():\n",
    "    def __init__(self, data_tokenized, min_freq: int = 1, max_vocab=None, unk_token = '<UNK>',\n",
    "                 pad_token = '<PAD>', init_token = '<BOS>', eos_token = '<EOS>'):\n",
    "     \n",
    "        tokens_list = []\n",
    "        for row in data_tokenized:\n",
    "            tokens_list.extend(row)\n",
    "        tokens_list = sorted(tokens_list)\n",
    "\n",
    "        counter = Counter(tokens_list)\n",
    "\n",
    "        sorted_by_freq_tuples = sorted(counter.items(), key=lambda x: x[1], reverse=True)\n",
    "        sorted_by_freq_tokens = [i[0] for i in sorted_by_freq_tuples if i[1] >= min_freq]\n",
    "        \n",
    "        specials = [unk_token, pad_token, init_token, eos_token]\n",
    "        sorted_by_freq_tokens = specials + sorted_by_freq_tokens\n",
    "    \n",
    "        if max_vocab:\n",
    "            sorted_by_freq_tokens = sorted_by_freq_tokens[:max_vocab]\n",
    "        \n",
    "        self.itos = sorted_by_freq_tokens\n",
    " \n",
    "        self.stoi = defaultdict(self.default_value()) \n",
    "        for token_id, token in enumerate(self.itos):\n",
    "            self.stoi[token] = token_id\n",
    "    \n",
    "    # сериализация класса\n",
    "    def __getstate__(self) -> dict:  # Как мы будем \"сохранять\" класс\n",
    "        state = {}\n",
    "        state[\"itos\"] = self.itos\n",
    "        state[\"stoi\"] = self.stoi\n",
    "        return state\n",
    "\n",
    "    # восстановление класса из pickle\n",
    "    def __setstate__(self, state: dict):\n",
    "        self.itos = state[\"itos\"]\n",
    "        self.stoi = state[\"stoi\"]\n",
    "\n",
    "    def default_value(self):\n",
    "        return 0\n",
    "    \n",
    "    def subword_to_id(self, subword):\n",
    "        return self.stoi[subword]\n",
    "    \n",
    "    def vocab_size(self):\n",
    "        return len(self.itos)"
   ]
  },
  {
   "cell_type": "markdown",
   "metadata": {},
   "source": [
    "Формирование и сохранение словарей"
   ]
  },
  {
   "cell_type": "code",
   "execution_count": 32,
   "metadata": {},
   "outputs": [],
   "source": [
    "if tokenize_bpe == False:\n",
    "\n",
    "    SRC = vocab([itm[0] for itm in train_tokenized], min_freq=min_freq_src, max_vocab=MAX_VOCAB_SIZE_SRC)\n",
    "    TRG = vocab([itm[1] for itm in train_tokenized], min_freq=min_freq_trg, max_vocab=MAX_VOCAB_SIZE_TRG)\n",
    "\n",
    "    # сохраним словари в файл\n",
    "    with open(\"models\\\\src.pkl\", \"wb\") as fp:\n",
    "        pickle.dump(SRC, fp)\n",
    "    with open(\"models\\\\trg.pkl\", \"wb\") as fp:\n",
    "        pickle.dump(TRG, fp)"
   ]
  },
  {
   "cell_type": "markdown",
   "metadata": {},
   "source": [
    "Загрузка словарей"
   ]
  },
  {
   "cell_type": "code",
   "execution_count": 46,
   "metadata": {},
   "outputs": [
    {
     "name": "stdout",
     "output_type": "stream",
     "text": [
      "Уникальные токены в словаре SRC: 25000\n",
      "Уникальные токены в словаре TRG: 25000\n"
     ]
    }
   ],
   "source": [
    "if tokenize_bpe == False:\n",
    "    with open('models\\\\src.pkl', 'rb') as fp:\n",
    "        SRC = pickle.load(fp)\n",
    "    with open('models\\\\trg.pkl', 'rb') as fp:\n",
    "        TRG = pickle.load(fp)\n",
    "\n",
    "    print(f\"Уникальные токены в словаре SRC: {SRC.vocab_size()}\")\n",
    "    print(f\"Уникальные токены в словаре TRG: {TRG.vocab_size()}\")"
   ]
  },
  {
   "cell_type": "markdown",
   "metadata": {},
   "source": [
    "### Формирование датасета с помощью Dataset"
   ]
  },
  {
   "cell_type": "code",
   "execution_count": 47,
   "metadata": {},
   "outputs": [],
   "source": [
    "class DatasetSeq2Seq(Dataset):\n",
    "    \"\"\"\n",
    "    на вход подается нетокенизированный датасет и словарь BPE\n",
    "    или токенизированный датасет и словари token2id\n",
    "    токены в датасете преобразуются в id\n",
    "    \"\"\"\n",
    "    def __init__(self, data, src2idx, trg2idx):\n",
    "            \n",
    "        self.BPE_mode = True if type(src2idx).__name__ == 'BPE' else False       \n",
    "        self.src_list = []\n",
    "        self.trg_list = []\n",
    "\n",
    "        if self.BPE_mode == True:\n",
    "            for i in range(len(data)):\n",
    "                self.src_list.append(src2idx.encode(data[i][0], bos=True, eos=True))\n",
    "                self.trg_list.append(trg2idx.encode(data[i][1], bos=True, eos=True))\n",
    "        else:\n",
    "            for i in range(len(data)):\n",
    "                self.src_list.append([src2idx['<BOS>']] + [src2idx[i] for i in data[i][0]] + [src2idx['<EOS>']])\n",
    "                self.trg_list.append([src2idx['<BOS>']] + [trg2idx[i] for i in data[i][1]] + [src2idx['<EOS>']])\n",
    "\n",
    "        assert len(self.src_list) == len(self.trg_list), 'Списки src и trg должны быть одинаковой длины'\n",
    "\n",
    "        self.len = len(self.src_list)\n",
    "\n",
    "    def __len__(self):\n",
    "        return self.len\n",
    "\n",
    "    def __getitem__(self, index):\n",
    "        return {'src': self.src_list[index],\n",
    "                'trg': self.trg_list[index]}"
   ]
  },
  {
   "cell_type": "code",
   "execution_count": 48,
   "metadata": {},
   "outputs": [
    {
     "name": "stdout",
     "output_type": "stream",
     "text": [
      "Размер обучающей выборки: 1495717\n",
      "Размер валидационной выборки: 83095\n",
      "Размер тестовой выборки: 83095\n"
     ]
    }
   ],
   "source": [
    "if tokenize_bpe == True:\n",
    "    train_data = DatasetSeq2Seq(train_data_raw, SRC, TRG)\n",
    "    valid_data = DatasetSeq2Seq(valid_data_raw, SRC, TRG)\n",
    "    test_data = DatasetSeq2Seq(test_data_raw, SRC, TRG)\n",
    "\n",
    "else:\n",
    "    train_data = DatasetSeq2Seq(train_tokenized, SRC.stoi, TRG.stoi)\n",
    "    valid_data = DatasetSeq2Seq(valid_tokenized, SRC.stoi, TRG.stoi)\n",
    "    test_data = DatasetSeq2Seq(test_tokenized,   SRC.stoi, TRG.stoi)\n",
    "\n",
    "print(f\"Размер обучающей выборки: {train_data.__len__()}\")\n",
    "print(f\"Размер валидационной выборки: {valid_data.__len__()}\")\n",
    "print(f\"Размер тестовой выборки: {test_data.__len__()}\")"
   ]
  },
  {
   "cell_type": "markdown",
   "metadata": {},
   "source": [
    "## Формирование батча"
   ]
  },
  {
   "cell_type": "markdown",
   "metadata": {},
   "source": [
    "Функция collate для формирования батча с помощью DataLoader"
   ]
  },
  {
   "cell_type": "code",
   "execution_count": 49,
   "metadata": {},
   "outputs": [],
   "source": [
    "def collate_fn(input_data):\n",
    "    src = []\n",
    "    trg = []\n",
    "\n",
    "    for item in input_data:\n",
    "        src.append(torch.as_tensor(item['src']))\n",
    "        trg.append(torch.as_tensor(item['trg']))\n",
    "\n",
    "    src = pad_sequence(src, batch_first=True, padding_value=1)\n",
    "    trg = pad_sequence(trg, batch_first=True, padding_value=1)\n",
    "\n",
    "    batch = {'src': src, 'trg': trg}\n",
    "\n",
    "    return batch"
   ]
  },
  {
   "cell_type": "code",
   "execution_count": 50,
   "metadata": {},
   "outputs": [],
   "source": [
    "train_iterator = DataLoader(train_data, BATCH_SIZE, shuffle=True,  collate_fn=collate_fn, drop_last = False)\n",
    "valid_iterator = DataLoader(valid_data, BATCH_SIZE, shuffle=False, collate_fn=collate_fn, drop_last = False)\n",
    "test_iterator =  DataLoader(test_data,  BATCH_SIZE, shuffle=False, collate_fn=collate_fn, drop_last = False)\n",
    "\n",
    "print('Максимальная длина переводимого предожения (токенов):',\n",
    "       max([i['src'].shape[1] for i in train_iterator] +\n",
    "           [i['src'].shape[1] for i in valid_iterator] +\n",
    "           [i['src'].shape[1] for i in test_iterator])\n",
    "      )\n",
    "\n",
    "print('Максимальная длина референсного перевода (токенов):',\n",
    "       max([i['trg'].shape[1] for i in train_iterator] +\n",
    "           [i['trg'].shape[1] for i in valid_iterator] +\n",
    "           [i['trg'].shape[1] for i in test_iterator])\n",
    "      )"
   ]
  },
  {
   "cell_type": "markdown",
   "metadata": {},
   "source": [
    "## Архитектура модели (Трансформер)"
   ]
  },
  {
   "cell_type": "code",
   "execution_count": 85,
   "metadata": {},
   "outputs": [],
   "source": [
    "class Encoder(nn.Module):\n",
    "    def __init__(self, \n",
    "                 input_dim, \n",
    "                 hid_dim, \n",
    "                 n_layers, \n",
    "                 n_heads, \n",
    "                 pf_dim,\n",
    "                 dropout, \n",
    "                 device,\n",
    "                 max_length = 100):\n",
    "        super().__init__()\n",
    "\n",
    "        self.device = device\n",
    "        \n",
    "        self.tok_embedding = nn.Embedding(input_dim, hid_dim)\n",
    "        self.pos_embedding = nn.Embedding(max_length, hid_dim)\n",
    "        \n",
    "        self.layers = nn.ModuleList([EncoderLayer(hid_dim, \n",
    "                                                  n_heads, \n",
    "                                                  pf_dim,\n",
    "                                                  dropout, \n",
    "                                                  device) \n",
    "                                     for _ in range(n_layers)])\n",
    "        \n",
    "        self.dropout = nn.Dropout(dropout)\n",
    "        \n",
    "        self.scale = torch.sqrt(torch.FloatTensor([hid_dim])).to(device)\n",
    "        \n",
    "    def forward(self, src, src_mask):\n",
    "        \n",
    "        #src = [batch size, src len]\n",
    "        #src_mask = [batch size, 1, 1, src len]\n",
    "        \n",
    "        batch_size = src.shape[0]\n",
    "        src_len = src.shape[1]\n",
    "        \n",
    "        pos = torch.arange(0, src_len).unsqueeze(0).repeat(batch_size, 1).to(self.device)\n",
    "        \n",
    "        #pos = [batch size, src len]\n",
    "        \n",
    "        src = self.dropout((self.tok_embedding(src) * self.scale) + self.pos_embedding(pos))\n",
    "        \n",
    "        #src = [batch size, src len, hid dim]\n",
    "        \n",
    "        for layer in self.layers:\n",
    "            src = layer(src, src_mask)\n",
    "            \n",
    "        #src = [batch size, src len, hid dim]\n",
    "            \n",
    "        return src"
   ]
  },
  {
   "cell_type": "code",
   "execution_count": 86,
   "metadata": {},
   "outputs": [],
   "source": [
    "class EncoderLayer(nn.Module):\n",
    "    def __init__(self, \n",
    "                 hid_dim, \n",
    "                 n_heads, \n",
    "                 pf_dim,  \n",
    "                 dropout, \n",
    "                 device):\n",
    "        super().__init__()\n",
    "        \n",
    "        self.self_attn_layer_norm = nn.LayerNorm(hid_dim)\n",
    "        self.ff_layer_norm = nn.LayerNorm(hid_dim)\n",
    "        self.self_attention = MultiHeadAttentionLayer(hid_dim, n_heads, dropout, device)\n",
    "        self.positionwise_feedforward = PositionwiseFeedforwardLayer(hid_dim, \n",
    "                                                                     pf_dim, \n",
    "                                                                     dropout)\n",
    "        self.dropout = nn.Dropout(dropout)\n",
    "        \n",
    "    def forward(self, src, src_mask):\n",
    "        \n",
    "        #src = [batch size, src len, hid dim]\n",
    "        #src_mask = [batch size, 1, 1, src len] \n",
    "                \n",
    "        #self attention\n",
    "        _src, _ = self.self_attention(src, src, src, src_mask)\n",
    "        \n",
    "        #dropout, residual connection and layer norm\n",
    "        src = self.self_attn_layer_norm(src + self.dropout(_src))\n",
    "        \n",
    "        #src = [batch size, src len, hid dim]\n",
    "        \n",
    "        #positionwise feedforward\n",
    "        _src = self.positionwise_feedforward(src)\n",
    "        \n",
    "        #dropout, residual and layer norm\n",
    "        src = self.ff_layer_norm(src + self.dropout(_src))\n",
    "        \n",
    "        #src = [batch size, src len, hid dim]\n",
    "        \n",
    "        return src"
   ]
  },
  {
   "cell_type": "code",
   "execution_count": 87,
   "metadata": {},
   "outputs": [],
   "source": [
    "class MultiHeadAttentionLayer(nn.Module):\n",
    "    def __init__(self, hid_dim, n_heads, dropout, device):\n",
    "        super().__init__()\n",
    "        \n",
    "        assert hid_dim % n_heads == 0\n",
    "        \n",
    "        self.hid_dim = hid_dim\n",
    "        self.n_heads = n_heads\n",
    "        self.head_dim = hid_dim // n_heads\n",
    "        \n",
    "        self.fc_q = nn.Linear(hid_dim, hid_dim)\n",
    "        self.fc_k = nn.Linear(hid_dim, hid_dim)\n",
    "        self.fc_v = nn.Linear(hid_dim, hid_dim)\n",
    "        \n",
    "        self.fc_o = nn.Linear(hid_dim, hid_dim)\n",
    "        \n",
    "        self.dropout = nn.Dropout(dropout)\n",
    "        \n",
    "        self.scale = torch.sqrt(torch.FloatTensor([self.head_dim])).to(device)\n",
    "        \n",
    "    def forward(self, query, key, value, mask = None):\n",
    "        \n",
    "        batch_size = query.shape[0]\n",
    "        \n",
    "        #query = [batch size, query len, hid dim]\n",
    "        #key = [batch size, key len, hid dim]\n",
    "        #value = [batch size, value len, hid dim]\n",
    "                \n",
    "        Q = self.fc_q(query)\n",
    "        K = self.fc_k(key)\n",
    "        V = self.fc_v(value)\n",
    "        \n",
    "        #Q = [batch size, query len, hid dim]\n",
    "        #K = [batch size, key len, hid dim]\n",
    "        #V = [batch size, value len, hid dim]\n",
    "                \n",
    "        Q = Q.view(batch_size, -1, self.n_heads, self.head_dim).permute(0, 2, 1, 3)\n",
    "        K = K.view(batch_size, -1, self.n_heads, self.head_dim).permute(0, 2, 1, 3)\n",
    "        V = V.view(batch_size, -1, self.n_heads, self.head_dim).permute(0, 2, 1, 3)\n",
    "        \n",
    "        #Q = [batch size, n heads, query len, head dim]\n",
    "        #K = [batch size, n heads, key len, head dim]\n",
    "        #V = [batch size, n heads, value len, head dim]\n",
    "                \n",
    "        energy = torch.matmul(Q, K.permute(0, 1, 3, 2)) / self.scale\n",
    "        \n",
    "        #energy = [batch size, n heads, query len, key len]\n",
    "        \n",
    "        if mask is not None:\n",
    "            energy = energy.masked_fill(mask == 0, -1e10)\n",
    "        \n",
    "        attention = torch.softmax(energy, dim = -1)\n",
    "                \n",
    "        #attention = [batch size, n heads, query len, key len]\n",
    "                \n",
    "        x = torch.matmul(self.dropout(attention), V)\n",
    "        \n",
    "        #x = [batch size, n heads, query len, head dim]\n",
    "        \n",
    "        x = x.permute(0, 2, 1, 3).contiguous()\n",
    "        \n",
    "        #x = [batch size, query len, n heads, head dim]\n",
    "        \n",
    "        x = x.view(batch_size, -1, self.hid_dim)\n",
    "        \n",
    "        #x = [batch size, query len, hid dim]\n",
    "        \n",
    "        x = self.fc_o(x)\n",
    "        \n",
    "        #x = [batch size, query len, hid dim]\n",
    "        \n",
    "        return x, attention"
   ]
  },
  {
   "cell_type": "code",
   "execution_count": 88,
   "metadata": {},
   "outputs": [],
   "source": [
    "class PositionwiseFeedforwardLayer(nn.Module):\n",
    "    def __init__(self, hid_dim, pf_dim, dropout):\n",
    "        super().__init__()\n",
    "        \n",
    "        self.fc_1 = nn.Linear(hid_dim, pf_dim)\n",
    "        self.fc_2 = nn.Linear(pf_dim, hid_dim)\n",
    "        \n",
    "        self.dropout = nn.Dropout(dropout)\n",
    "        \n",
    "    def forward(self, x):\n",
    "        \n",
    "        #x = [batch size, seq len, hid dim]\n",
    "        \n",
    "        x = self.dropout(torch.relu(self.fc_1(x)))\n",
    "        \n",
    "        #x = [batch size, seq len, pf dim]\n",
    "        \n",
    "        x = self.fc_2(x)\n",
    "        \n",
    "        #x = [batch size, seq len, hid dim]\n",
    "        \n",
    "        return x"
   ]
  },
  {
   "cell_type": "code",
   "execution_count": 89,
   "metadata": {},
   "outputs": [],
   "source": [
    "class Decoder(nn.Module):\n",
    "    def __init__(self, \n",
    "                 output_dim, \n",
    "                 hid_dim, \n",
    "                 n_layers, \n",
    "                 n_heads, \n",
    "                 pf_dim, \n",
    "                 dropout, \n",
    "                 device,\n",
    "                 max_length = 100):\n",
    "        super().__init__()\n",
    "        \n",
    "        self.device = device\n",
    "        \n",
    "        self.tok_embedding = nn.Embedding(output_dim, hid_dim)\n",
    "        self.pos_embedding = nn.Embedding(max_length, hid_dim)\n",
    "        \n",
    "        self.layers = nn.ModuleList([DecoderLayer(hid_dim, \n",
    "                                                  n_heads, \n",
    "                                                  pf_dim, \n",
    "                                                  dropout, \n",
    "                                                  device)\n",
    "                                     for _ in range(n_layers)])\n",
    "        \n",
    "        self.fc_out = nn.Linear(hid_dim, output_dim)\n",
    "        \n",
    "        self.dropout = nn.Dropout(dropout)\n",
    "        \n",
    "        self.scale = torch.sqrt(torch.FloatTensor([hid_dim])).to(device)\n",
    "        \n",
    "    def forward(self, trg, enc_src, trg_mask, src_mask):\n",
    "        \n",
    "        #trg = [batch size, trg len]\n",
    "        #enc_src = [batch size, src len, hid dim]\n",
    "        #trg_mask = [batch size, 1, trg len, trg len]\n",
    "        #src_mask = [batch size, 1, 1, src len]\n",
    "                \n",
    "        batch_size = trg.shape[0]\n",
    "        trg_len = trg.shape[1]\n",
    "        \n",
    "        pos = torch.arange(0, trg_len).unsqueeze(0).repeat(batch_size, 1).to(self.device)\n",
    "                            \n",
    "        #pos = [batch size, trg len]\n",
    "            \n",
    "        trg = self.dropout((self.tok_embedding(trg) * self.scale) + self.pos_embedding(pos))\n",
    "                \n",
    "        #trg = [batch size, trg len, hid dim]\n",
    "        \n",
    "        for layer in self.layers:\n",
    "            trg, attention = layer(trg, enc_src, trg_mask, src_mask)\n",
    "        \n",
    "        #trg = [batch size, trg len, hid dim]\n",
    "        #attention = [batch size, n heads, trg len, src len]\n",
    "        \n",
    "        output = self.fc_out(trg)\n",
    "        \n",
    "        #output = [batch size, trg len, output dim]\n",
    "            \n",
    "        return output, attention"
   ]
  },
  {
   "cell_type": "code",
   "execution_count": 90,
   "metadata": {},
   "outputs": [],
   "source": [
    "class DecoderLayer(nn.Module):\n",
    "    def __init__(self, \n",
    "                 hid_dim, \n",
    "                 n_heads, \n",
    "                 pf_dim, \n",
    "                 dropout, \n",
    "                 device):\n",
    "        super().__init__()\n",
    "        \n",
    "        self.self_attn_layer_norm = nn.LayerNorm(hid_dim)\n",
    "        self.enc_attn_layer_norm = nn.LayerNorm(hid_dim)\n",
    "        self.ff_layer_norm = nn.LayerNorm(hid_dim)\n",
    "        self.self_attention = MultiHeadAttentionLayer(hid_dim, n_heads, dropout, device)\n",
    "        self.encoder_attention = MultiHeadAttentionLayer(hid_dim, n_heads, dropout, device)\n",
    "        self.positionwise_feedforward = PositionwiseFeedforwardLayer(hid_dim, \n",
    "                                                                     pf_dim, \n",
    "                                                                     dropout)\n",
    "        self.dropout = nn.Dropout(dropout)\n",
    "        \n",
    "    def forward(self, trg, enc_src, trg_mask, src_mask):\n",
    "        \n",
    "        #trg = [batch size, trg len, hid dim]\n",
    "        #enc_src = [batch size, src len, hid dim]\n",
    "        #trg_mask = [batch size, 1, trg len, trg len]\n",
    "        #src_mask = [batch size, 1, 1, src len]\n",
    "        \n",
    "        #self attention\n",
    "        _trg, _ = self.self_attention(trg, trg, trg, trg_mask)\n",
    "        \n",
    "        #dropout, residual connection and layer norm\n",
    "        trg = self.self_attn_layer_norm(trg + self.dropout(_trg))\n",
    "            \n",
    "        #trg = [batch size, trg len, hid dim]\n",
    "            \n",
    "        #encoder attention\n",
    "        _trg, attention = self.encoder_attention(trg, enc_src, enc_src, src_mask)\n",
    "        \n",
    "        #dropout, residual connection and layer norm\n",
    "        trg = self.enc_attn_layer_norm(trg + self.dropout(_trg))\n",
    "                    \n",
    "        #trg = [batch size, trg len, hid dim]\n",
    "        \n",
    "        #positionwise feedforward\n",
    "        _trg = self.positionwise_feedforward(trg)\n",
    "        \n",
    "        #dropout, residual and layer norm\n",
    "        trg = self.ff_layer_norm(trg + self.dropout(_trg))\n",
    "        \n",
    "        #trg = [batch size, trg len, hid dim]\n",
    "        #attention = [batch size, n heads, trg len, src len]\n",
    "        \n",
    "        return trg, attention"
   ]
  },
  {
   "cell_type": "code",
   "execution_count": 91,
   "metadata": {},
   "outputs": [],
   "source": [
    "class Seq2Seq(nn.Module):\n",
    "    def __init__(self, \n",
    "                 encoder, \n",
    "                 decoder, \n",
    "                 src_pad_idx, \n",
    "                 trg_pad_idx, \n",
    "                 device):\n",
    "        super().__init__()\n",
    "        \n",
    "        self.encoder = encoder\n",
    "        self.decoder = decoder\n",
    "        self.src_pad_idx = src_pad_idx\n",
    "        self.trg_pad_idx = trg_pad_idx\n",
    "        self.device = device\n",
    "        \n",
    "    def make_src_mask(self, src):\n",
    "        \n",
    "        #src = [batch size, src len]\n",
    "        \n",
    "        src_mask = (src != self.src_pad_idx).unsqueeze(1).unsqueeze(2)\n",
    "\n",
    "        #src_mask = [batch size, 1, 1, src len]\n",
    "\n",
    "        return src_mask\n",
    "    \n",
    "    def make_trg_mask(self, trg):\n",
    "        \n",
    "        #trg = [batch size, trg len]\n",
    "        \n",
    "        trg_pad_mask = (trg != self.trg_pad_idx).unsqueeze(1).unsqueeze(2)\n",
    "        \n",
    "        #trg_pad_mask = [batch size, 1, 1, trg len]\n",
    "        \n",
    "        trg_len = trg.shape[1]\n",
    "        \n",
    "        trg_sub_mask = torch.tril(torch.ones((trg_len, trg_len), device = self.device)).bool()\n",
    "        \n",
    "        #trg_sub_mask = [trg len, trg len]\n",
    "            \n",
    "        trg_mask = trg_pad_mask & trg_sub_mask\n",
    "        \n",
    "        #trg_mask = [batch size, 1, trg len, trg len]\n",
    "        \n",
    "        return trg_mask\n",
    "\n",
    "    def forward(self, src, trg):\n",
    "        \n",
    "        #src = [batch size, src len]\n",
    "        #trg = [batch size, trg len]\n",
    "                \n",
    "        src_mask = self.make_src_mask(src)\n",
    "        trg_mask = self.make_trg_mask(trg)\n",
    "        \n",
    "        #src_mask = [batch size, 1, 1, src len]\n",
    "        #trg_mask = [batch size, 1, trg len, trg len]\n",
    "\n",
    "        enc_src = self.encoder(src, src_mask)\n",
    "\n",
    "        #enc_src = [batch size, src len, hid dim]\n",
    "                \n",
    "        output, attention = self.decoder(trg, enc_src, trg_mask, src_mask)\n",
    "\n",
    "        #output = [batch size, trg len, output dim]\n",
    "        #attention = [batch size, n heads, trg len, src len]\n",
    "        \n",
    "        return output, attention"
   ]
  },
  {
   "cell_type": "markdown",
   "metadata": {},
   "source": [
    "## Инициализация модели"
   ]
  },
  {
   "cell_type": "code",
   "execution_count": 92,
   "metadata": {},
   "outputs": [],
   "source": [
    "INPUT_DIM = SRC.vocab_size()\n",
    "OUTPUT_DIM = TRG.vocab_size()\n",
    "HID_DIM = 256\n",
    "ENC_LAYERS = 3\n",
    "DEC_LAYERS = 3\n",
    "ENC_HEADS = 8\n",
    "DEC_HEADS = 8\n",
    "ENC_PF_DIM = 512\n",
    "DEC_PF_DIM = 512\n",
    "ENC_DROPOUT = 0.1\n",
    "DEC_DROPOUT = 0.1\n",
    "\n",
    "SRC_MAX_LENGHT = max([i['src'].shape[1] for i in train_iterator] +\n",
    "                     [i['src'].shape[1] for i in valid_iterator] +\n",
    "                     [i['src'].shape[1] for i in test_iterator])\n",
    "TRG_MAX_LENGHT = max([i['trg'].shape[1] for i in train_iterator] +\n",
    "                     [i['trg'].shape[1] for i in valid_iterator] +\n",
    "                     [i['trg'].shape[1] for i in test_iterator])\n",
    "\n",
    "SRC_PAD_IDX = SRC.subword_to_id('<PAD>')\n",
    "TRG_PAD_IDX = TRG.subword_to_id('<PAD>')\n",
    "\n",
    "enc = Encoder(INPUT_DIM, \n",
    "              HID_DIM, \n",
    "              ENC_LAYERS, \n",
    "              ENC_HEADS, \n",
    "              ENC_PF_DIM, \n",
    "              ENC_DROPOUT, \n",
    "              device,\n",
    "              max_length=SRC_MAX_LENGHT)\n",
    "\n",
    "dec = Decoder(OUTPUT_DIM, \n",
    "              HID_DIM, \n",
    "              DEC_LAYERS, \n",
    "              DEC_HEADS, \n",
    "              DEC_PF_DIM, \n",
    "              DEC_DROPOUT, \n",
    "              device,\n",
    "              max_length=TRG_MAX_LENGHT)\n",
    "\n",
    "model = Seq2Seq(enc, dec, SRC_PAD_IDX, TRG_PAD_IDX, device).to(device)"
   ]
  },
  {
   "cell_type": "markdown",
   "metadata": {},
   "source": [
    "Количество параметров модели"
   ]
  },
  {
   "cell_type": "code",
   "execution_count": 93,
   "metadata": {},
   "outputs": [
    {
     "name": "stdout",
     "output_type": "stream",
     "text": [
      "Модель имеет 23,762,600 обучаемых параметров\n"
     ]
    }
   ],
   "source": [
    "def count_parameters(model):\n",
    "    return sum(p.numel() for p in model.parameters() if p.requires_grad)\n",
    "\n",
    "print(f'Модель имеет {count_parameters(model):,} обучаемых параметров')"
   ]
  },
  {
   "cell_type": "markdown",
   "metadata": {},
   "source": [
    "Инициализация весов"
   ]
  },
  {
   "cell_type": "code",
   "execution_count": 94,
   "metadata": {},
   "outputs": [],
   "source": [
    "# Xavier\n",
    "def initialize_weights(m):\n",
    "    if hasattr(m, 'weight') and m.weight.dim() > 1:\n",
    "        nn.init.xavier_uniform_(m.weight.data)\n",
    "\n",
    "model.apply(initialize_weights);"
   ]
  },
  {
   "cell_type": "markdown",
   "metadata": {},
   "source": [
    "## Оптимизатор"
   ]
  },
  {
   "cell_type": "code",
   "execution_count": 95,
   "metadata": {},
   "outputs": [],
   "source": [
    "LEARNING_RATE = 0.0005\n",
    "\n",
    "optimizer = torch.optim.Adam(model.parameters(), lr = LEARNING_RATE)"
   ]
  },
  {
   "cell_type": "markdown",
   "metadata": {},
   "source": [
    "##  Функция потерь"
   ]
  },
  {
   "cell_type": "code",
   "execution_count": 96,
   "metadata": {},
   "outputs": [],
   "source": [
    "# CrossEntropyLoss, потери, рассчитанные по токенам <PAD>, игнорируются\n",
    "criterion = nn.CrossEntropyLoss(ignore_index = TRG_PAD_IDX)"
   ]
  },
  {
   "cell_type": "markdown",
   "metadata": {},
   "source": [
    "## Трейн луп"
   ]
  },
  {
   "cell_type": "code",
   "execution_count": 97,
   "metadata": {},
   "outputs": [],
   "source": [
    "def train(model, iterator, optimizer, criterion, clip):\n",
    "    \n",
    "    model.train()\n",
    "    \n",
    "    epoch_loss = 0\n",
    "    \n",
    "    for i, batch in enumerate(iterator):\n",
    "        \n",
    "        src = batch['src']\n",
    "        trg = batch['trg']\n",
    "\n",
    "        src = src.to(device)\n",
    "        trg = trg.to(device)\n",
    "            \n",
    "        optimizer.zero_grad()\n",
    "            \n",
    "        output, _ = model(src, trg[:,:-1])\n",
    "            \n",
    "        #output = [batch size, trg len - 1, output dim]\n",
    "        #trg = [batch size, trg len]\n",
    "            \n",
    "        output_dim = output.shape[-1]\n",
    "            \n",
    "        output = output.contiguous().view(-1, output_dim)\n",
    "        trg = trg[:,1:].contiguous().view(-1)\n",
    "            \n",
    "        #output = [batch size * trg len - 1, output dim]\n",
    "        #trg = [batch size * trg len - 1]\n",
    "            \n",
    "        loss = criterion(output, trg)\n",
    "        \n",
    "        loss.backward()\n",
    "            \n",
    "        torch.nn.utils.clip_grad_norm_(model.parameters(), clip)\n",
    "            \n",
    "        optimizer.step()\n",
    "            \n",
    "        epoch_loss += loss.item()\n",
    "        \n",
    "    return epoch_loss / len(iterator)"
   ]
  },
  {
   "cell_type": "code",
   "execution_count": 98,
   "metadata": {},
   "outputs": [],
   "source": [
    "def evaluate(model, iterator, criterion):\n",
    "    \n",
    "    model.eval()\n",
    "    \n",
    "    epoch_loss = 0\n",
    "    \n",
    "    with torch.no_grad():\n",
    "    \n",
    "        for i, batch in enumerate(iterator):\n",
    "\n",
    "            src = batch['src']\n",
    "            trg = batch['trg']\n",
    "\n",
    "            src = src.to(device)\n",
    "            trg = trg.to(device)\n",
    "\n",
    "            output, _ = model(src, trg[:,:-1])\n",
    "            \n",
    "            #output = [batch size, trg len - 1, output dim]\n",
    "            #trg = [batch size, trg len]\n",
    "            \n",
    "            output_dim = output.shape[-1]\n",
    "            \n",
    "            output = output.contiguous().view(-1, output_dim)\n",
    "            trg = trg[:,1:].contiguous().view(-1)\n",
    "            \n",
    "            #output = [batch size * trg len - 1, output dim]\n",
    "            #trg = [batch size * trg len - 1]\n",
    "            \n",
    "            loss = criterion(output, trg)\n",
    "\n",
    "            epoch_loss += loss.item()\n",
    "        \n",
    "    return epoch_loss / len(iterator)"
   ]
  },
  {
   "cell_type": "code",
   "execution_count": 99,
   "metadata": {},
   "outputs": [],
   "source": [
    "def epoch_time(start_time, end_time):\n",
    "    elapsed_time = end_time - start_time\n",
    "    elapsed_mins = int(elapsed_time / 60)\n",
    "    elapsed_secs = int(elapsed_time - (elapsed_mins * 60))\n",
    "    return elapsed_mins, elapsed_secs"
   ]
  },
  {
   "cell_type": "code",
   "execution_count": 100,
   "metadata": {},
   "outputs": [],
   "source": [
    "def train_eval_loop(model, train_iterator, valid_iterator, N_EPOCHS=10, CLIP = 1):\n",
    "\n",
    "    best_valid_loss = float('inf')\n",
    "\n",
    "    for epoch in range(N_EPOCHS):\n",
    "        \n",
    "        try:\n",
    "        \n",
    "            start_time = time.time()\n",
    "            \n",
    "            train_iterator = DataLoader(train_data, \n",
    "                                        BATCH_SIZE, \n",
    "                                        shuffle=True, \n",
    "                                        collate_fn=collate_fn,\n",
    "                                        drop_last = False,\n",
    "                                        )\n",
    "\n",
    "            train_loss = train(model, train_iterator, optimizer, criterion, CLIP)\n",
    "            valid_loss = evaluate(model, valid_iterator, criterion)\n",
    "            \n",
    "            end_time = time.time()\n",
    "            \n",
    "            epoch_mins, epoch_secs = epoch_time(start_time, end_time)\n",
    "            \n",
    "            if valid_loss < best_valid_loss:\n",
    "                best_valid_loss = valid_loss\n",
    "                torch.save(model.state_dict(), 'model_translator.pt')\n",
    "            \n",
    "            print(f'Epoch: {epoch+1:02} | Time: {epoch_mins}m {epoch_secs}s')\n",
    "            print(f'\\tTrain Loss: {train_loss:.3f} | Train PPL: {math.exp(train_loss):7.3f}')\n",
    "            print(f'\\t Val. Loss: {valid_loss:.3f} |  Val. PPL: {math.exp(valid_loss):7.3f}')\n",
    "        \n",
    "        except KeyboardInterrupt:\n",
    "            print('Досрочно остановлено пользователем')\n",
    "            break\n",
    "        \n",
    "    return None"
   ]
  },
  {
   "cell_type": "code",
   "execution_count": 101,
   "metadata": {},
   "outputs": [
    {
     "name": "stdout",
     "output_type": "stream",
     "text": [
      "Epoch: 01 | Time: 94m 5s\n",
      "\tTrain Loss: 6.509 | Train PPL: 671.226\n",
      "\t Val. Loss: 6.307 |  Val. PPL: 548.473\n",
      "Epoch: 02 | Time: 100m 7s\n",
      "\tTrain Loss: 6.268 | Train PPL: 527.575\n",
      "\t Val. Loss: 6.162 |  Val. PPL: 474.316\n",
      "Epoch: 03 | Time: 104m 9s\n",
      "\tTrain Loss: 6.204 | Train PPL: 494.954\n",
      "\t Val. Loss: 6.147 |  Val. PPL: 467.533\n",
      "Epoch: 04 | Time: 93m 43s\n",
      "\tTrain Loss: 6.158 | Train PPL: 472.509\n",
      "\t Val. Loss: 6.096 |  Val. PPL: 444.047\n",
      "Epoch: 05 | Time: 92m 56s\n",
      "\tTrain Loss: 6.134 | Train PPL: 461.085\n",
      "\t Val. Loss: 6.043 |  Val. PPL: 421.135\n",
      "Epoch: 06 | Time: 92m 22s\n",
      "\tTrain Loss: 6.103 | Train PPL: 447.263\n",
      "\t Val. Loss: 6.034 |  Val. PPL: 417.372\n",
      "Epoch: 07 | Time: 92m 44s\n",
      "\tTrain Loss: 6.077 | Train PPL: 435.669\n",
      "\t Val. Loss: 5.987 |  Val. PPL: 398.044\n",
      "Досрочно остановлено пользователем\n"
     ]
    }
   ],
   "source": [
    "train_eval_loop(model, train_iterator, valid_iterator, N_EPOCHS=10)"
   ]
  },
  {
   "cell_type": "markdown",
   "metadata": {},
   "source": [
    "## Предикт и оценка качества"
   ]
  },
  {
   "cell_type": "markdown",
   "metadata": {},
   "source": [
    "Загрузка весов модели с наименьшим лоссом на валидации"
   ]
  },
  {
   "cell_type": "code",
   "execution_count": 102,
   "metadata": {},
   "outputs": [
    {
     "name": "stdout",
     "output_type": "stream",
     "text": [
      "| Test Loss: 5.988 | Test PPL: 398.559 |\n"
     ]
    }
   ],
   "source": [
    "model.load_state_dict(torch.load('model_translator.pt'))\n",
    "\n",
    "test_loss = evaluate(model, test_iterator, criterion)\n",
    "\n",
    "print(f'| Test Loss: {test_loss:.3f} | Test PPL: {math.exp(test_loss):7.3f} |')"
   ]
  },
  {
   "cell_type": "markdown",
   "metadata": {},
   "source": [
    "Обучение на датасете WikiMatrix en2ru:\n",
    "- spaCy, lower=True, max_len_sentense=200, vocab_size=25k, 6 эпох - перплексия 6.394 (субъективно лучше)\n",
    "- spaCy, lower=False, max_len_sentense=200, vocab_size=25k, 10 эпох - перплексия 7.172\n",
    "- BPE, lower=True, max_len_sentense=200, vocab_size=25k, 6 эпох - перплексия 26.221\n",
    "- BPE, lower=True, max_len_sentense=200, vocab_size=10k, 6 эпох - перплексия 87.137\n",
    "- BPE, lower=True, max_len_sentense=200, vocab_size=6.5k, 6 эпох - перплексия 26.295\n",
    "- BPE, lower=False, max_len_sentense=200, vocab_size=7k, 6 эпох - перплексия 19.755"
   ]
  },
  {
   "cell_type": "markdown",
   "metadata": {},
   "source": [
    "### Жадная генерация"
   ]
  },
  {
   "cell_type": "code",
   "execution_count": 103,
   "metadata": {},
   "outputs": [],
   "source": [
    "example_idx = 2\n",
    "\n",
    "if tokenize_bpe == True:\n",
    "    src = train_data_raw[example_idx][0]\n",
    "    trg = train_data_raw[example_idx][1]\n",
    "else:\n",
    "    src = ' '.join(train_tokenized[example_idx][0])\n",
    "    trg = ' '.join(train_tokenized[example_idx][1])  "
   ]
  },
  {
   "cell_type": "code",
   "execution_count": 104,
   "metadata": {},
   "outputs": [
    {
     "data": {
      "text/plain": [
       "('В марте 2011 года он был назначен заместителем министра иностранных дел в качестве президента в качестве президента в качестве президента в качестве президента в качестве президента в качестве президента в качестве президента в качестве президента в качестве президента в качестве президента в качестве президента в качестве президента в качестве президента',\n",
       " ['В',\n",
       "  'марте',\n",
       "  '2011',\n",
       "  'года',\n",
       "  'он',\n",
       "  'был',\n",
       "  'назначен',\n",
       "  'заместителем',\n",
       "  'министра',\n",
       "  'иностранных',\n",
       "  'дел',\n",
       "  'в',\n",
       "  'качестве',\n",
       "  'президента',\n",
       "  'в',\n",
       "  'качестве',\n",
       "  'президента',\n",
       "  'в',\n",
       "  'качестве',\n",
       "  'президента',\n",
       "  'в',\n",
       "  'качестве',\n",
       "  'президента',\n",
       "  'в',\n",
       "  'качестве',\n",
       "  'президента',\n",
       "  'в',\n",
       "  'качестве',\n",
       "  'президента',\n",
       "  'в',\n",
       "  'качестве',\n",
       "  'президента',\n",
       "  'в',\n",
       "  'качестве',\n",
       "  'президента',\n",
       "  'в',\n",
       "  'качестве',\n",
       "  'президента',\n",
       "  'в',\n",
       "  'качестве',\n",
       "  'президента',\n",
       "  'в',\n",
       "  'качестве',\n",
       "  'президента',\n",
       "  'в',\n",
       "  'качестве',\n",
       "  'президента',\n",
       "  'в',\n",
       "  'качестве',\n",
       "  'президента'],\n",
       " tensor([[[[1.4271e-02, 2.6822e-03, 1.4860e-04,  ..., 1.4860e-04,\n",
       "            1.1578e-01, 4.0640e-02],\n",
       "           [1.3903e-03, 5.8174e-05, 1.1907e-07,  ..., 1.1907e-07,\n",
       "            2.1763e-01, 1.6945e-02],\n",
       "           [2.1414e-03, 1.2944e-04, 3.7108e-07,  ..., 3.7108e-07,\n",
       "            2.3826e-01, 2.1629e-02],\n",
       "           ...,\n",
       "           [1.0159e-03, 2.3744e-05, 1.9936e-08,  ..., 1.9937e-08,\n",
       "            3.0067e-01, 1.3733e-02],\n",
       "           [1.3917e-02, 3.2035e-03, 1.8168e-04,  ..., 1.8168e-04,\n",
       "            1.3024e-01, 4.3134e-02],\n",
       "           [1.2815e-02, 2.5924e-02, 8.7509e-02,  ..., 8.7509e-02,\n",
       "            4.5703e-03, 6.9965e-03]],\n",
       " \n",
       "          [[1.9483e-02, 1.0456e-02, 1.1362e-03,  ..., 1.1362e-03,\n",
       "            1.6976e-01, 4.9695e-02],\n",
       "           [1.2758e-02, 4.6027e-03, 3.2442e-04,  ..., 3.2442e-04,\n",
       "            2.0139e-01, 4.2861e-02],\n",
       "           [1.5339e-02, 7.2242e-03, 5.9308e-04,  ..., 5.9308e-04,\n",
       "            1.6556e-01, 4.5949e-02],\n",
       "           ...,\n",
       "           [9.6550e-14, 1.3729e-11, 1.5197e-05,  ..., 1.5197e-05,\n",
       "            2.6528e-19, 3.3997e-16],\n",
       "           [7.9473e-03, 2.4405e-03, 9.0041e-05,  ..., 9.0041e-05,\n",
       "            2.3263e-01, 3.5638e-02],\n",
       "           [2.4193e-04, 9.2585e-04, 2.4530e-02,  ..., 2.4530e-02,\n",
       "            1.2174e-05, 6.8845e-05]],\n",
       " \n",
       "          [[2.8754e-02, 3.0466e-02, 3.7776e-02,  ..., 3.7777e-02,\n",
       "            2.2795e-02, 2.5509e-02],\n",
       "           [3.1666e-02, 2.9938e-02, 2.9858e-02,  ..., 2.9858e-02,\n",
       "            3.1221e-02, 3.2299e-02],\n",
       "           [2.9979e-02, 3.0100e-02, 3.4992e-02,  ..., 3.4992e-02,\n",
       "            2.5701e-02, 2.8395e-02],\n",
       "           ...,\n",
       "           [2.9003e-02, 3.2876e-02, 4.4379e-02,  ..., 4.4379e-02,\n",
       "            2.1912e-02, 2.5516e-02],\n",
       "           [2.9466e-02, 3.2985e-02, 4.2381e-02,  ..., 4.2381e-02,\n",
       "            2.3392e-02, 2.6742e-02],\n",
       "           [3.0650e-02, 3.4663e-02, 4.4366e-02,  ..., 4.4366e-02,\n",
       "            2.3922e-02, 2.6941e-02]],\n",
       " \n",
       "          ...,\n",
       " \n",
       "          [[3.0118e-03, 1.7309e-02, 1.0170e-01,  ..., 1.0170e-01,\n",
       "            1.9565e-03, 1.6439e-03],\n",
       "           [8.8469e-03, 2.4800e-02, 9.3800e-02,  ..., 9.3800e-02,\n",
       "            4.3423e-03, 5.1158e-03],\n",
       "           [5.8775e-03, 2.3291e-02, 9.3363e-02,  ..., 9.3363e-02,\n",
       "            3.9472e-03, 3.5335e-03],\n",
       "           ...,\n",
       "           [7.0105e-03, 2.2888e-02, 9.7836e-02,  ..., 9.7837e-02,\n",
       "            4.0071e-03, 3.6813e-03],\n",
       "           [2.2111e-02, 2.7942e-02, 7.4792e-02,  ..., 7.4791e-02,\n",
       "            6.8092e-03, 1.3267e-02],\n",
       "           [4.2216e-02, 1.2365e-02, 6.5206e-03,  ..., 6.5204e-03,\n",
       "            1.8470e-02, 4.9472e-02]],\n",
       " \n",
       "          [[1.9271e-02, 2.6870e-02, 5.3402e-02,  ..., 5.3402e-02,\n",
       "            1.1673e-02, 1.6702e-02],\n",
       "           [2.8237e-03, 6.9215e-03, 4.1415e-02,  ..., 4.1416e-02,\n",
       "            5.3899e-04, 1.3829e-03],\n",
       "           [2.7902e-02, 2.8259e-02, 1.1896e-02,  ..., 1.1896e-02,\n",
       "            6.4079e-02, 3.9540e-02],\n",
       "           ...,\n",
       "           [2.1030e-03, 5.0486e-03, 3.1252e-02,  ..., 3.1252e-02,\n",
       "            3.2848e-04, 8.8432e-04],\n",
       "           [5.6832e-04, 1.8528e-03, 3.0376e-02,  ..., 3.0376e-02,\n",
       "            4.0535e-05, 1.7678e-04],\n",
       "           [1.2137e-06, 8.9161e-06, 1.1281e-03,  ..., 1.1281e-03,\n",
       "            1.1162e-08, 1.5177e-07]],\n",
       " \n",
       "          [[3.1931e-06, 2.2086e-05, 6.6469e-03,  ..., 6.6469e-03,\n",
       "            8.5871e-09, 2.9570e-07],\n",
       "           [1.1086e-04, 4.5600e-04, 2.2965e-02,  ..., 2.2965e-02,\n",
       "            2.1343e-06, 2.2441e-05],\n",
       "           [1.6247e-04, 7.5657e-04, 3.9172e-02,  ..., 3.9172e-02,\n",
       "            3.3216e-06, 3.2910e-05],\n",
       "           ...,\n",
       "           [1.7959e-02, 3.2558e-02, 7.3931e-02,  ..., 7.3930e-02,\n",
       "            7.8546e-03, 1.3273e-02],\n",
       "           [2.0714e-02, 3.4189e-02, 6.5512e-02,  ..., 6.5512e-02,\n",
       "            1.1094e-02, 1.7214e-02],\n",
       "           [2.0169e-02, 3.4701e-02, 7.1478e-02,  ..., 7.1477e-02,\n",
       "            8.6850e-03, 1.5414e-02]]]], device='cuda:0'))"
      ]
     },
     "execution_count": 104,
     "metadata": {},
     "output_type": "execute_result"
    }
   ],
   "source": [
    "def translate_sentence(sentence, src_field, trg_field, model, device, max_len = 50):\n",
    "    \n",
    "    model.to(device)\n",
    "    model.eval()\n",
    "\n",
    "    # режим генерации для токенизатора BPE\n",
    "    bpe_mode = True if str(src_field.__class__) == \"<class 'youtokentome.youtokentome.BPE'>\" else False\n",
    "    \n",
    "    # id токена конца последовательности\n",
    "    bos_token_id = trg_field.subword_to_id('<BOS>')\n",
    "    eos_token_id = trg_field.subword_to_id('<EOS>')\n",
    "\n",
    "    if data_lower == True:\n",
    "        sentence = sentence.lower()\n",
    "\n",
    "    if bpe_mode == True:\n",
    "        src_numericalized = src_field.encode(sentence, bos=True, eos=True)\n",
    "    else:\n",
    "        src_tokenized = tokenize_src(sentence)\n",
    "        src_numericalized = [bos_token_id] + [src_field.subword_to_id(t) for t in src_tokenized] + [eos_token_id]\n",
    "    \n",
    "    src_tensor = torch.LongTensor(src_numericalized).unsqueeze(0).to(device) \n",
    "    \n",
    "    src_mask = model.make_src_mask(src_tensor)\n",
    "\n",
    "    with torch.no_grad():\n",
    "        enc_src = model.encoder(src_tensor, src_mask)\n",
    "    \n",
    "    trg_indexes = [trg_field.subword_to_id('<BOS>')]\n",
    "    \n",
    "    for i in range(max_len):\n",
    "        trg_tensor = torch.LongTensor(trg_indexes).unsqueeze(0).to(device)\n",
    "        trg_mask = model.make_trg_mask(trg_tensor)\n",
    "\n",
    "        with torch.no_grad():\n",
    "            output, attention = model.decoder(trg_tensor, enc_src, trg_mask, src_mask)\n",
    "            pred_token = output.argmax(2)[:,-1].item()\n",
    "            trg_indexes.append(pred_token)\n",
    "            \n",
    "            if pred_token == eos_token_id:\n",
    "                break \n",
    "\n",
    "    if bpe_mode == True:\n",
    "        trg_tokens = [trg_field.decode([token])[0] for token in trg_indexes[1:]]\n",
    "        translation = trg_field.decode(trg_indexes, ignore_ids=[2,3])[0]\n",
    "    else:\n",
    "        trg_tokens = [trg_field.itos[i] for i in trg_indexes][1:]                               # можно добавить метод id_to_subword\n",
    "        translation = ' '.join([token for token in trg_tokens if token != '<UNK>'])\n",
    "\n",
    "    return translation, trg_tokens, attention\n",
    "\n",
    "translate_sentence(src, SRC, TRG, model, device)"
   ]
  },
  {
   "cell_type": "markdown",
   "metadata": {},
   "source": [
    "### Генерация с помощью лучевого поиска - Beam Search"
   ]
  },
  {
   "cell_type": "code",
   "execution_count": 105,
   "metadata": {},
   "outputs": [
    {
     "data": {
      "text/plain": [
       "'С тех пор, пока он был назначен в качестве президента в качестве президента в качестве президента в качестве президента в качестве президента в качестве президента.'"
      ]
     },
     "execution_count": 105,
     "metadata": {},
     "output_type": "execute_result"
    }
   ],
   "source": [
    "class BeamGenerator:\n",
    "    def __init__(self, model, src_field, trg_field, device='cuda', eos_token_id=3):\n",
    "        self.model = model\n",
    "        self.SRC = src_field\n",
    "        self.TRG = trg_field\n",
    "        self.device = torch.device(device)\n",
    "        self.model.to(self.device)\n",
    "        self.bpe_mode = True if str(src_field.__class__) == \"<class 'youtokentome.youtokentome.BPE'>\" else False\n",
    "        self.bos_token_id = self.SRC.subword_to_id('<BOS>')\n",
    "        self.eos_token_id = self.SRC.subword_to_id('<EOS>')\n",
    "\n",
    "    def __call__(self, sentence, max_steps_n=40, return_hypotheses_n=5, beamsize=5):\n",
    "        # токенизация текста\n",
    "        if data_lower == True:\n",
    "            sentence = sentence.lower()\n",
    "        if self.bpe_mode == True:\n",
    "            src_numericalized = self.SRC.encode(sentence, bos=True, eos=True)\n",
    "        else:\n",
    "            src_tokenized = tokenize_src(sentence)\n",
    "            src_numericalized = [self.bos_token_id] + [self.SRC.subword_to_id(t) for t in src_tokenized] + [self.eos_token_id]       \n",
    "\n",
    "        src_tensor = torch.LongTensor(src_numericalized).unsqueeze(0).to(device) \n",
    "\n",
    "        src_mask = model.make_src_mask(src_tensor)\n",
    "\n",
    "        with torch.no_grad():\n",
    "            enc_src = self.model.encoder(src_tensor, src_mask)\n",
    "        \n",
    "        trg_indexes = [self.bos_token_id]\n",
    "        \n",
    "        partial_hypotheses = [(0, trg_indexes, None)] # список промежуточных гипотез (очередь из веса и гипотезы)\n",
    "        final_hypotheses = []                   # список готовых гипотез        \n",
    "        \n",
    "        while len(partial_hypotheses) > 0:\n",
    "            cur_partial_score, cur_partial_hypothesis, _ = heapq.heappop(partial_hypotheses)   # очередь с приоритетами\n",
    "\n",
    "            # для текущей гипотезы предсказывается следующий токен\n",
    "            trg_tensor = torch.LongTensor(cur_partial_hypothesis).unsqueeze(0).to(device)\n",
    "            trg_mask = model.make_trg_mask(trg_tensor)\n",
    "\n",
    "            with torch.no_grad():\n",
    "                \n",
    "                output, attention = model.decoder(trg_tensor, enc_src, trg_mask, src_mask)\n",
    "                \n",
    "                # нормирование логитов (логарифмически для сглаживания отдельных маленьких вероятностей - сумма вместо произведения)\n",
    "                next_tokens_logproba = F.log_softmax(output[0, -1],dim=0)\n",
    "\n",
    "                # выбор k токенов с наибольшей вероятностью\n",
    "                topk_continuations = next_tokens_logproba.topk(beamsize)\n",
    "            \n",
    "                # итерация по списку k лучших вариантов\n",
    "                for token_score, token_idx in zip(topk_continuations.values, topk_continuations.indices):\n",
    "\n",
    "                    token_score = float(token_score)    # отбрасывание объектов pytorch\n",
    "                    token_idx = int(token_idx)          # отбрасывание объектов pytorch\n",
    "\n",
    "                    # рассчет новой оценки правдоподобности гипотезы с нормализацией по длине последовательности\n",
    "                    old_denorm_score = cur_partial_score * np.sqrt(len(cur_partial_hypothesis))\n",
    "                    new_score = (old_denorm_score - token_score) / np.sqrt(len(cur_partial_hypothesis) + 1)\n",
    "\n",
    "                    # к гипотезе дописывается токен\n",
    "                    new_hypothesis = cur_partial_hypothesis + [token_idx]\n",
    "                    new_item = (new_score, new_hypothesis, attention)\n",
    "\n",
    "                    if token_idx == self.eos_token_id or len(new_hypothesis) - 2 >= max_steps_n:\n",
    "                        final_hypotheses.append(new_item)\n",
    "                    else:\n",
    "                        heapq.heappush(partial_hypotheses, new_item)    # гипотеза кладется в очередь\n",
    "                \n",
    "                # очередь обрезается по длине beamsize\n",
    "                if len(partial_hypotheses) > beamsize:\n",
    "                    partial_hypotheses = heapq.nsmallest(beamsize, partial_hypotheses)\n",
    "                    heapq.heapify(partial_hypotheses)\n",
    "\n",
    "        final_hypotheses.sort()\n",
    "        final_hypotheses = final_hypotheses[:return_hypotheses_n]\n",
    "\n",
    "        final_scores, final_token_lists, attentions = zip(*final_hypotheses)\n",
    "\n",
    "        translations = []\n",
    "        trg_tokens = []\n",
    "        if self.bpe_mode == True:\n",
    "            for trg_indexes in final_token_lists:\n",
    "                translations.append(self.TRG.decode(trg_indexes, ignore_ids=[2,3])[0])\n",
    "                trg_tokens.append([self.TRG.decode([token])[0] for token in trg_indexes[1:]])\n",
    "\n",
    "        else:\n",
    "            for trg_indexes in final_token_lists:\n",
    "                trg_tokens_hypothesis = [self.TRG.itos[i] for i in trg_indexes[1:]]\n",
    "                trg_tokens.append(trg_tokens_hypothesis)\n",
    "                translations.append(' '.join([token for token in trg_tokens_hypothesis if token != '<UNK>']))\n",
    "\n",
    "        result = list(zip(final_scores, translations, trg_tokens, attentions))\n",
    "\n",
    "        return result\n",
    "    \n",
    "beam_generator = BeamGenerator(model, SRC, TRG, device=device)\n",
    "\n",
    "beam_gen_variants = beam_generator(src,\n",
    "                                   max_steps_n=40,\n",
    "                                   beamsize=3,\n",
    "                                   return_hypotheses_n=1)\n",
    "beam_gen_variants[0][1]"
   ]
  },
  {
   "cell_type": "code",
   "execution_count": 39,
   "metadata": {},
   "outputs": [],
   "source": [
    "def showAttention(sentence, trg_tokens, attention, n_heads = 8, n_rows = 4, n_cols = 2):\n",
    "    \n",
    "    assert n_rows * n_cols == n_heads\n",
    "    \n",
    "    if str(SRC.__class__) == \"<class 'youtokentome.youtokentome.BPE'>\":\n",
    "        src_tokenized = [SRC.decode([token])[0] for token in SRC.encode(sentence, bos=True, eos=True)]\n",
    "\n",
    "    else:\n",
    "        src_tokenized = ['<BOS>'] + tokenize_src(sentence) + ['<EOS>']\n",
    "\n",
    "    fig = plt.figure(figsize=(15,25))\n",
    "    \n",
    "    for i in range(n_heads):\n",
    "        ax = fig.add_subplot(n_rows, n_cols, i+1)\n",
    "        cax = ax.matshow(attention.squeeze(0)[i].cpu().detach().numpy(), cmap='bone')\n",
    "        ax.tick_params(labelsize=12)\n",
    "        ax.set_xticks(np.arange(len(src_tokenized)), labels=src_tokenized, rotation=80)\n",
    "        ax.set_yticks(np.arange(len(trg_tokens)), labels=trg_tokens)\n",
    "        \n",
    "    plt.show()\n",
    "    plt.close()\n",
    "\n",
    "#showAttention(src, trg_tokens, attention)"
   ]
  },
  {
   "cell_type": "code",
   "execution_count": 40,
   "metadata": {},
   "outputs": [
    {
     "name": "stdout",
     "output_type": "stream",
     "text": [
      "predicted trg GreedyGenerator =  Число представителей этого отряда определяется после выборов , основываясь на том , как многие люди действительно в Хорватии , что значение Хорватии и внутри Хорватии . <EOS>\n",
      "BeamGenerator\n",
      "****\n",
      "4.697384302913225\n",
      "Число представителей этой части определяется после выборов , основываясь на том , как многие люди действительно в Хорватии , так что значение внутри Хорватии и Хорватии . <EOS>\n",
      "****\n",
      "4.728230346743686\n",
      "Число представителей этой части определяется после выборов , основываясь на том , как многие люди действительно в Хорватии , так что значение Хорватии и внутри Хорватии . <EOS>\n",
      "****\n",
      "4.758979443776506\n",
      "Число представителей этой части определяется после выборов , основываясь на том , как многие люди действительно в Хорватии , так что значение Хорватии внутри Хорватии и Хорватии . <EOS>\n",
      "****\n",
      "4.901983043067315\n",
      "Число представителей этой части определяется после выборов , основываясь на том , как многие люди действительно в Хорватии , так что значение Хорватии и внутри Хорватии внутри Хорватии . <EOS>\n",
      "****\n",
      "4.97335081933492\n",
      "Число представителей этой части определяется после выборов , основываясь на том , как многие люди действительно в Хорватии , так что значение внутри Хорватии , и за пределами Хорватии . <EOS>\n"
     ]
    }
   ],
   "source": [
    "def evaluateAndShowAttention(sentence, model, src_field, trg_field, displayAttention = True, device='cuda',\n",
    "                             max_tokens=40, beamsize=5, return_hypotheses_n=5, eos_token_id=3):\n",
    "    \n",
    "    # жадная генерация\n",
    "    translation, _, _ = translate_sentence(sentence, src_field, trg_field, model, device, max_tokens)\n",
    "    \n",
    "    print('predicted trg GreedyGenerator = ', translation)\n",
    "\n",
    "    # генерация с помощью лучевого поиска\n",
    "    beam_generator = BeamGenerator(model, src_field, trg_field, device)\n",
    "\n",
    "    beam_gen_variants = beam_generator(src, max_tokens, beamsize, return_hypotheses_n)\n",
    "\n",
    "    if return_hypotheses_n == 1:\n",
    "        print('predicted trg BeamSearch      = ', translation)\n",
    "        print()\n",
    "\n",
    "    else:\n",
    "        print('BeamGenerator')\n",
    "        for score, translation, _, _ in beam_gen_variants:\n",
    "            print('****')\n",
    "            print(score)\n",
    "            print(translation)\n",
    "\n",
    "    _, translation, trg_tokens, attention = beam_gen_variants[0]\n",
    "\n",
    "    if displayAttention == True:\n",
    "        showAttention(sentence, trg_tokens, attention)\n",
    "    \n",
    "    return translation\n",
    "\n",
    "temp = evaluateAndShowAttention(src, model, SRC, TRG, displayAttention=False, device=device, max_tokens=40,\n",
    "                                return_hypotheses_n=5, beamsize=5)"
   ]
  },
  {
   "cell_type": "markdown",
   "metadata": {},
   "source": [
    "Предикт на обучающей выборке"
   ]
  },
  {
   "cell_type": "code",
   "execution_count": 41,
   "metadata": {},
   "outputs": [
    {
     "name": "stdout",
     "output_type": "stream",
     "text": [
      "src = This was the first Solomon Kane story ever published.\n",
      "trg = Это первая опубликованная история про Соломона.\n",
      "\n",
      "predicted trg GreedyGenerator =  Это был первый рассказ . <EOS>\n",
      "predicted trg BeamSearch      =  Это был первый рассказ . <EOS>\n",
      "\n"
     ]
    },
    {
     "data": {
      "text/plain": [
       "'Это был первый рассказ . <EOS>'"
      ]
     },
     "execution_count": 41,
     "metadata": {},
     "output_type": "execute_result"
    }
   ],
   "source": [
    "example_idx = 4\n",
    "\n",
    "src = ' '.join(train_data_raw[example_idx][0].split()[:MAX_LEN_SRC])\n",
    "trg = ' '.join(train_data_raw[example_idx][1].split()[:MAX_LEN_TRG])\n",
    "\n",
    "print(f'src = {src}')\n",
    "print(f'trg = {trg}')\n",
    "print()\n",
    "\n",
    "evaluateAndShowAttention(src, model, SRC, TRG, displayAttention=False, device=device, max_tokens=40,\n",
    "                         return_hypotheses_n=1, beamsize=5)"
   ]
  },
  {
   "cell_type": "markdown",
   "metadata": {},
   "source": [
    "Предикт на валидационной выборке"
   ]
  },
  {
   "cell_type": "code",
   "execution_count": 106,
   "metadata": {},
   "outputs": [
    {
     "name": "stdout",
     "output_type": "stream",
     "text": [
      "src = Margaret returned to Norway in 1209 for her daughter's wedding.\n",
      "trg = Маргарита вернулась в Норвегию в 1209 году на свадьбу своей дочери.\n",
      "\n",
      "predicted trg GreedyGenerator =  Маргарет вернулась в Норвегию в году для свадьбы дочери . <EOS>\n",
      "predicted trg BeamSearch      =  Маргарет вернулась в Норвегию в году для свадьбы дочери . <EOS>\n",
      "\n"
     ]
    },
    {
     "data": {
      "text/plain": [
       "'Маргарет вернулась в Норвегию в году для свадьбы дочери . <EOS>'"
      ]
     },
     "execution_count": 106,
     "metadata": {},
     "output_type": "execute_result"
    }
   ],
   "source": [
    "example_idx = 17\n",
    "\n",
    "src = ' '.join(valid_data_raw[example_idx][0].split()[:MAX_LEN_SRC])\n",
    "trg = ' '.join(valid_data_raw[example_idx][1].split()[:MAX_LEN_TRG])\n",
    "\n",
    "print(f'src = {src}')\n",
    "print(f'trg = {trg}')\n",
    "print()\n",
    "\n",
    "evaluateAndShowAttention(src, model, SRC, TRG, displayAttention=False, device=device, max_tokens=40,\n",
    "                         return_hypotheses_n=1, beamsize=5)"
   ]
  },
  {
   "cell_type": "markdown",
   "metadata": {},
   "source": [
    "Предикт на тестовой выборке"
   ]
  },
  {
   "cell_type": "code",
   "execution_count": 139,
   "metadata": {},
   "outputs": [
    {
     "name": "stdout",
     "output_type": "stream",
     "text": [
      "src = Following the results of the two championship seasons Zuev was recognized as the best goalkeeper of the championship of Russia.\n",
      "trg = По итогам обоих чемпионских сезонов Зуева признавали лучшим вратарём чемпионата России.\n",
      "\n",
      "predicted trg GreedyGenerator =  После результатов чемпионата был признан лучшим бомбардиром чемпионата России . <EOS>\n",
      "predicted trg BeamSearch      =  После результатов чемпионата был признан лучшим бомбардиром чемпионата России . <EOS>\n",
      "\n"
     ]
    },
    {
     "data": {
      "text/plain": [
       "'После результатов чемпионата был признан лучшим бомбардиром чемпионата России . <EOS>'"
      ]
     },
     "execution_count": 139,
     "metadata": {},
     "output_type": "execute_result"
    }
   ],
   "source": [
    "example_idx = 123\n",
    "\n",
    "src = ' '.join(test_data_raw[example_idx][0].split()[:MAX_LEN_SRC])\n",
    "trg = ' '.join(test_data_raw[example_idx][1].split()[:MAX_LEN_TRG])\n",
    "\n",
    "print(f'src = {src}')\n",
    "print(f'trg = {trg}')\n",
    "print()\n",
    "\n",
    "evaluateAndShowAttention(src, model, SRC, TRG, displayAttention=False, device=device, max_tokens=40,\n",
    "                         return_hypotheses_n=1, beamsize=5)"
   ]
  },
  {
   "cell_type": "markdown",
   "metadata": {},
   "source": [
    "Предикт на произвольных данных"
   ]
  },
  {
   "cell_type": "code",
   "execution_count": 140,
   "metadata": {},
   "outputs": [
    {
     "name": "stdout",
     "output_type": "stream",
     "text": [
      "src = We haven’t lived together in a long time.\n",
      "trg = Мы давно не живем вместе.\n",
      "\n",
      "predicted trg GreedyGenerator =  Мы не жили в то время . <EOS>\n",
      "predicted trg BeamSearch      =  Мы не жили в то время . <EOS>\n",
      "\n"
     ]
    },
    {
     "data": {
      "image/png": "[encoded data removed]",
      "text/plain": [
       "<Figure size 1500x2500 with 8 Axes>"
      ]
     },
     "metadata": {},
     "output_type": "display_data"
    },
    {
     "name": "stdout",
     "output_type": "stream",
     "text": [
      "CPU times: total: 641 ms\n",
      "Wall time: 729 ms\n"
     ]
    },
    {
     "data": {
      "text/plain": [
       "'Мы не жили в то время . <EOS>'"
      ]
     },
     "execution_count": 140,
     "metadata": {},
     "output_type": "execute_result"
    }
   ],
   "source": [
    "%%time\n",
    "\n",
    "src = 'We haven’t lived together in a long time.'\n",
    "trg = 'Мы давно не живем вместе.'\n",
    "\n",
    "print(f'src = {src}')\n",
    "print(f'trg = {trg}')\n",
    "print()\n",
    "\n",
    "evaluateAndShowAttention(src, model, SRC, TRG, displayAttention=True, device=device, max_tokens=40,\n",
    "                         return_hypotheses_n=1, beamsize=5)"
   ]
  }
 ],
 "metadata": {
  "kernelspec": {
   "display_name": "Python 3",
   "language": "python",
   "name": "python3"
  },
  "language_info": {
   "codemirror_mode": {
    "name": "ipython",
    "version": 3
   },
   "file_extension": ".py",
   "mimetype": "text/x-python",
   "name": "python",
   "nbconvert_exporter": "python",
   "pygments_lexer": "ipython3",
   "version": "3.11.5"
  }
 },
 "nbformat": 4,
 "nbformat_minor": 2
}
